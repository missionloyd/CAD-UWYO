{
 "cells": [
  {
   "cell_type": "code",
   "execution_count": 6,
   "metadata": {},
   "outputs": [],
   "source": [
    "import os\n",
    "import pandas as pd\n",
    "from datetime import datetime, timedelta\n",
    "import matplotlib.pyplot as plt"
   ]
  },
  {
   "cell_type": "code",
   "execution_count": 7,
   "metadata": {},
   "outputs": [],
   "source": [
    "measurement_type_ids = {\n",
    "  'Consumption': 1,\n",
    "  'Heating': 6,\n",
    "  'Cooling': 7\n",
    "}\n",
    "\n",
    "inv_measurement_type_ids = {v: k for k, v in measurement_type_ids.items()}\n",
    "\n",
    "# Read in the files\n",
    "assets = pd.read_csv('../input_data/asset.csv', sep='|')\n",
    "data = pd.read_csv('../output_data/data_TH.out', sep='\\t')\n",
    "\n",
    "# Create output plot directory if it doesn't exist\n",
    "plot_dir = '../output_data/plots'\n",
    "if not os.path.exists(plot_dir):\n",
    "  os.makedirs(plot_dir)\n",
    "\n",
    "# Initialize variables\n",
    "start_ts = datetime(2022, 1, 1)\n",
    "time_increment = timedelta(hours=1)\n",
    "\n",
    "# Separate columns for Heating and Cooling\n",
    "consumption_columns = [col for col in data.columns if 'ElectricConsumption(kWh)' in col]\n",
    "heating_columns = [col for col in data.columns if 'Heating(Wh)' in col]\n",
    "cooling_columns = [col for col in data.columns if 'Cooling(Wh)' in col]\n",
    "\n",
    "# Create separate dataframes for Heating and Cooling\n",
    "consumption_data = data[consumption_columns].copy()\n",
    "heating_data = data[heating_columns].copy()\n",
    "cooling_data = data[cooling_columns].copy()\n",
    "\n",
    "# Initialize lists to store results\n",
    "consumption_rows = []\n",
    "heating_rows = []\n",
    "cooling_rows = []"
   ]
  },
  {
   "cell_type": "code",
   "execution_count": 8,
   "metadata": {},
   "outputs": [],
   "source": [
    "# Process each row in the TSV data\n",
    "for index, row in data.iterrows():\n",
    "    current_ts = start_ts + index * time_increment\n",
    "    \n",
    "    for col in consumption_columns:\n",
    "        building_id = col.split('(')[0]\n",
    "        consumption_rows.append({\n",
    "            'asset_id': building_id,\n",
    "            'measurement_type_id': measurement_type_ids['Consumption'],\n",
    "            'measurement_prediction_type_id': 1,\n",
    "            'ts': current_ts,\n",
    "            'value': row[col] # Already in kWh\n",
    "        })\n",
    "\n",
    "    for col in heating_columns:\n",
    "        building_id = col.split('(')[0]\n",
    "        heating_rows.append({\n",
    "            'asset_id': building_id,\n",
    "            'measurement_type_id': measurement_type_ids['Heating'],\n",
    "            'measurement_prediction_type_id': 1,\n",
    "            'ts': current_ts,\n",
    "            'value': row[col] / 1000  # Convert Wh to kWh\n",
    "        })\n",
    "    \n",
    "    for col in cooling_columns:\n",
    "        building_id = col.split('(')[0]\n",
    "        cooling_rows.append({\n",
    "            'asset_id': building_id,\n",
    "            'measurement_type_id': measurement_type_ids['Cooling'],\n",
    "            'measurement_prediction_type_id': 1,\n",
    "            'ts': current_ts,\n",
    "            'value': row[col] / 1000  # Convert Wh to kWh\n",
    "        })\n"
   ]
  },
  {
   "cell_type": "code",
   "execution_count": 9,
   "metadata": {},
   "outputs": [],
   "source": [
    "# Convert lists to dataframes\n",
    "consumption_df = pd.DataFrame(consumption_rows)\n",
    "heating_df = pd.DataFrame(heating_rows)\n",
    "cooling_df = pd.DataFrame(cooling_rows)\n",
    "\n",
    "# Combine the dataframes\n",
    "combined_df = pd.concat([consumption_df, heating_df, cooling_df], ignore_index=True)\n",
    "combinded_df_month = combined_df.copy()"
   ]
  },
  {
   "cell_type": "code",
   "execution_count": 10,
   "metadata": {},
   "outputs": [],
   "source": [
    "# Truncate dates to month and sum values\n",
    "combinded_df_month['month'] = combinded_df_month['ts'].dt.to_period('M')\n",
    "monthly_sum_df = combinded_df_month.groupby(['asset_id', 'measurement_type_id', 'month']).agg({'value': 'sum'}).reset_index()\n",
    "\n",
    "# Plot each asset and save the plots\n",
    "for asset_id, asset_group in monthly_sum_df.groupby('asset_id'):\n",
    "    asset_name = assets.loc[assets['id'] == int(asset_id), 'name'].values[0]\n",
    "    asset_name_fixed = asset_name.replace(' ', '_')\n",
    "    plt.figure()\n",
    "    for measurement_type_id, commodity_group in asset_group.groupby('measurement_type_id'):\n",
    "        color = 'red' if measurement_type_id == 6 else 'blue' if measurement_type_id == 7 else 'gold' if measurement_type_id == 1 else 'gray'\n",
    "        label = 'Heating' if measurement_type_id == 6 else 'Cooling' if measurement_type_id == 7 else 'Consumption' if measurement_type_id == 1 else 'Unknown'\n",
    "        plt.plot(commodity_group['month'].astype(str), commodity_group['value'], marker='o', color=color, label=f'{label} Sum')\n",
    "        \n",
    "        # Calculate and plot the average value\n",
    "        average_value = commodity_group['value'].mean()\n",
    "        plt.axhline(y=average_value, color=color, linestyle='--', label=f'{label} Average')\n",
    "    \n",
    "    plt.title(f'{asset_name}')\n",
    "    plt.xlabel('Month')\n",
    "    plt.ylabel('Value (kWh)')\n",
    "    plt.xticks(rotation=45)\n",
    "    plt.legend()\n",
    "    plt.tight_layout()\n",
    "    plt.savefig(f'../output_data/plots/{asset_name_fixed}.png')\n",
    "    plt.close()\n"
   ]
  },
  {
   "cell_type": "code",
   "execution_count": 11,
   "metadata": {},
   "outputs": [
    {
     "name": "stdout",
     "output_type": "stream",
     "text": [
      "  asset_id  measurement_type_id  measurement_prediction_type_id         ts  \\\n",
      "0       88                    1                               1 2022-01-01   \n",
      "1       87                    1                               1 2022-01-01   \n",
      "2       85                    1                               1 2022-01-01   \n",
      "3       84                    1                               1 2022-01-01   \n",
      "4       83                    1                               1 2022-01-01   \n",
      "\n",
      "     value  \n",
      "0  219.108  \n",
      "1   84.411  \n",
      "2   29.348  \n",
      "3  244.415  \n",
      "4  589.738  \n"
     ]
    }
   ],
   "source": [
    "# Save the combined dataframe as a CSV file\n",
    "combined_df.to_csv('../output_data/citysim_prediction_measurement.csv', sep='|', index=False)\n",
    "\n",
    "# Print or display the combined dataframe for verification\n",
    "print(combined_df.head())"
   ]
  }
 ],
 "metadata": {
  "kernelspec": {
   "display_name": "tf-gpu",
   "language": "python",
   "name": "python3"
  },
  "language_info": {
   "codemirror_mode": {
    "name": "ipython",
    "version": 3
   },
   "file_extension": ".py",
   "mimetype": "text/x-python",
   "name": "python",
   "nbconvert_exporter": "python",
   "pygments_lexer": "ipython3",
   "version": "3.9.16"
  }
 },
 "nbformat": 4,
 "nbformat_minor": 2
}
