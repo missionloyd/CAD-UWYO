{
 "cells": [
  {
   "cell_type": "code",
   "execution_count": 85,
   "metadata": {},
   "outputs": [],
   "source": [
    "import pandas as pd\n",
    "from datetime import datetime, timedelta\n",
    "import matplotlib.pyplot as plt"
   ]
  },
  {
   "cell_type": "code",
   "execution_count": 86,
   "metadata": {},
   "outputs": [],
   "source": [
    "commodity_ids = {\n",
    "  'Heating': 6,\n",
    "  'Cooling': 7\n",
    "}\n",
    "\n",
    "inv_commodity_ids = {v: k for k, v in commodity_ids.items()}\n",
    "\n",
    "# Read in the files\n",
    "assets = pd.read_csv('../data/asset.csv', sep='|')\n",
    "data = pd.read_csv('../output/output_TH.tsv', sep='\\t')\n",
    "\n",
    "# Initialize variables\n",
    "start_ts = datetime(2024, 1, 1)\n",
    "time_increment = timedelta(hours=1)\n",
    "\n",
    "# Separate columns for Heating and Cooling\n",
    "heating_columns = [col for col in data.columns if 'Heating(Wh)' in col]\n",
    "cooling_columns = [col for col in data.columns if 'Cooling(Wh)' in col]\n",
    "\n",
    "# Create separate dataframes for Heating and Cooling\n",
    "heating_data = data[heating_columns].copy()\n",
    "cooling_data = data[cooling_columns].copy()\n",
    "\n",
    "# Initialize lists to store results\n",
    "heating_rows = []\n",
    "cooling_rows = []"
   ]
  },
  {
   "cell_type": "code",
   "execution_count": 87,
   "metadata": {},
   "outputs": [],
   "source": [
    "# Process each row in the TSV data\n",
    "for index, row in data.iterrows():\n",
    "    current_ts = start_ts + index * time_increment\n",
    "    \n",
    "    for col in heating_columns:\n",
    "        building_id = col.split('(')[0]\n",
    "        heating_rows.append({\n",
    "            'asset_id': building_id,\n",
    "            'commodity_id': commodity_ids['Heating'],\n",
    "            'ts': current_ts,\n",
    "            'is_prediction': 't',\n",
    "            'value': row[col] / 1000  # Convert Wh to kWh\n",
    "        })\n",
    "    \n",
    "    for col in cooling_columns:\n",
    "        building_id = col.split('(')[0]\n",
    "        cooling_rows.append({\n",
    "            'asset_id': building_id,\n",
    "            'commodity_id': commodity_ids['Cooling'],\n",
    "            'ts': current_ts,\n",
    "            'is_prediction': 't',\n",
    "            'value': row[col] / 1000  # Convert Wh to kWh\n",
    "        })\n"
   ]
  },
  {
   "cell_type": "code",
   "execution_count": 88,
   "metadata": {},
   "outputs": [],
   "source": [
    "# Convert lists to dataframes\n",
    "heating_df = pd.DataFrame(heating_rows)\n",
    "cooling_df = pd.DataFrame(cooling_rows)\n",
    "\n",
    "# Combine the dataframes\n",
    "combined_df = pd.concat([heating_df, cooling_df], ignore_index=True)\n",
    "combinded_df_month = combined_df.copy()"
   ]
  },
  {
   "cell_type": "code",
   "execution_count": 89,
   "metadata": {},
   "outputs": [],
   "source": [
    "# Truncate dates to month and sum values\n",
    "combinded_df_month['month'] = combinded_df_month['ts'].dt.to_period('M')\n",
    "monthly_sum_df = combinded_df_month.groupby(['asset_id', 'commodity_id', 'month']).agg({'value': 'sum'}).reset_index()\n",
    "\n",
    "# Plot each asset and save the plots\n",
    "for asset_id, asset_group in monthly_sum_df.groupby('asset_id'):\n",
    "    asset_name = assets.loc[assets['id'] == int(asset_id), 'name'].values[0]\n",
    "    asset_name_fixed = asset_name.replace(' ', '_')\n",
    "    plt.figure()\n",
    "    for commodity_id, commodity_group in asset_group.groupby('commodity_id'):\n",
    "        color = 'red' if commodity_id == 6 else 'blue'\n",
    "        label = 'Heating' if commodity_id == 6 else 'Cooling'\n",
    "        plt.plot(commodity_group['month'].astype(str), commodity_group['value'], marker='o', color=color, label=f'{label} Sum')\n",
    "        \n",
    "        # Calculate and plot the average value\n",
    "        average_value = commodity_group['value'].mean()\n",
    "        plt.axhline(y=average_value, color=color, linestyle='--', label=f'{label} Average')\n",
    "    \n",
    "    plt.title(f'{asset_name}')\n",
    "    plt.xlabel('Month')\n",
    "    plt.ylabel('Value (kWh)')\n",
    "    plt.xticks(rotation=45)\n",
    "    plt.legend()\n",
    "    plt.tight_layout()\n",
    "    plt.savefig(f'../output/plots/{asset_name_fixed}.png')\n",
    "    plt.close()\n"
   ]
  },
  {
   "cell_type": "code",
   "execution_count": 90,
   "metadata": {},
   "outputs": [
    {
     "name": "stdout",
     "output_type": "stream",
     "text": [
      "  asset_id  commodity_id         ts is_prediction     value\n",
      "0       82             6 2024-01-01             t   428.123\n",
      "1       81             6 2024-01-01             t   180.450\n",
      "2       79             6 2024-01-01             t    66.635\n",
      "3       78             6 2024-01-01             t   477.515\n",
      "4       77             6 2024-01-01             t  1148.475\n"
     ]
    }
   ],
   "source": [
    "# Save the combined dataframe as a CSV file\n",
    "combined_df.to_csv('../output/measurement.csv', sep='|', index=False)\n",
    "\n",
    "# Print or display the combined dataframe for verification\n",
    "print(combined_df.head())"
   ]
  }
 ],
 "metadata": {
  "kernelspec": {
   "display_name": "base",
   "language": "python",
   "name": "python3"
  },
  "language_info": {
   "codemirror_mode": {
    "name": "ipython",
    "version": 3
   },
   "file_extension": ".py",
   "mimetype": "text/x-python",
   "name": "python",
   "nbconvert_exporter": "python",
   "pygments_lexer": "ipython3",
   "version": "3.9.16"
  }
 },
 "nbformat": 4,
 "nbformat_minor": 2
}
